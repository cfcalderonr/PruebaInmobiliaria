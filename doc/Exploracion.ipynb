{
 "cells": [
  {
   "cell_type": "markdown",
   "id": "62eafc20-afac-42c9-acd4-ae828c2897b7",
   "metadata": {},
   "source": [
    "# Prueba de conocimientos"
   ]
  },
  {
   "cell_type": "markdown",
   "id": "e584681b-a92c-4e44-87f5-6e266704022a",
   "metadata": {},
   "source": [
    "## Paquetes"
   ]
  },
  {
   "cell_type": "code",
   "execution_count": 2,
   "id": "9a170c6e-26b1-4ca9-8dea-84f5a008ff05",
   "metadata": {},
   "outputs": [],
   "source": [
    "import pandas as pd"
   ]
  },
  {
   "cell_type": "markdown",
   "id": "b3f10ca8-19d3-421f-ba55-1ae384aa745d",
   "metadata": {},
   "source": [
    "## Cargue de datos"
   ]
  },
  {
   "cell_type": "code",
   "execution_count": 10,
   "id": "10502107-e55b-4321-9027-3dfc8a1256fd",
   "metadata": {},
   "outputs": [
    {
     "data": {
      "text/plain": [
       "(21613, 21)"
      ]
     },
     "execution_count": 10,
     "metadata": {},
     "output_type": "execute_result"
    }
   ],
   "source": [
    "df = pd.read_csv(r'..\\input\\house_data.csv')\n",
    "df.shape"
   ]
  },
  {
   "cell_type": "code",
   "execution_count": null,
   "id": "4e8cae84-161e-4f2a-bce1-4819b6f9507c",
   "metadata": {},
   "outputs": [],
   "source": []
  }
 ],
 "metadata": {
  "kernelspec": {
   "display_name": "Python 3 (ipykernel)",
   "language": "python",
   "name": "python3"
  },
  "language_info": {
   "codemirror_mode": {
    "name": "ipython",
    "version": 3
   },
   "file_extension": ".py",
   "mimetype": "text/x-python",
   "name": "python",
   "nbconvert_exporter": "python",
   "pygments_lexer": "ipython3",
   "version": "3.8.13"
  }
 },
 "nbformat": 4,
 "nbformat_minor": 5
}
